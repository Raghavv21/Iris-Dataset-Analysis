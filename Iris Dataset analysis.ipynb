{
 "cells": [
  {
   "cell_type": "code",
   "execution_count": 1,
   "id": "ff887d26",
   "metadata": {},
   "outputs": [],
   "source": [
    "import pandas as pd"
   ]
  },
  {
   "cell_type": "code",
   "execution_count": 2,
   "id": "1ca70c52",
   "metadata": {},
   "outputs": [],
   "source": [
    "url = \"https://archive.ics.uci.edu/ml/machine-learning-databases/iris/iris.data\"\n",
    "column_names = ['SepalLength', 'SepalWidth', 'PetalLength', 'PetalWidth', 'Species']\n",
    "data = pd.read_csv(url, header=None, names=column_names)"
   ]
  },
  {
   "cell_type": "code",
   "execution_count": 3,
   "id": "a834f17f",
   "metadata": {},
   "outputs": [
    {
     "name": "stdout",
     "output_type": "stream",
     "text": [
      "Problem 1: Count of Flowers\n",
      "Iris-setosa: 50\n",
      "Iris-versicolor: 50\n",
      "Iris-virginica: 50\n"
     ]
    }
   ],
   "source": [
    "# Problem 1: Count of Flowers\n",
    "flower_counts = data['Species'].value_counts()\n",
    "print(\"Problem 1: Count of Flowers\")\n",
    "for flower, count in flower_counts.items():\n",
    "    print(f\"{flower}: {count}\")"
   ]
  },
  {
   "cell_type": "code",
   "execution_count": 4,
   "id": "c7bc2a29",
   "metadata": {},
   "outputs": [
    {
     "name": "stdout",
     "output_type": "stream",
     "text": [
      "\n",
      "Problem 2: Iris Virginica Data\n",
      "     SepalLength  SepalWidth  PetalLength  PetalWidth         Species\n",
      "100          6.3         3.3          6.0         2.5  Iris-virginica\n",
      "101          5.8         2.7          5.1         1.9  Iris-virginica\n",
      "102          7.1         3.0          5.9         2.1  Iris-virginica\n",
      "103          6.3         2.9          5.6         1.8  Iris-virginica\n",
      "104          6.5         3.0          5.8         2.2  Iris-virginica\n",
      "105          7.6         3.0          6.6         2.1  Iris-virginica\n",
      "106          4.9         2.5          4.5         1.7  Iris-virginica\n",
      "107          7.3         2.9          6.3         1.8  Iris-virginica\n",
      "108          6.7         2.5          5.8         1.8  Iris-virginica\n",
      "109          7.2         3.6          6.1         2.5  Iris-virginica\n",
      "110          6.5         3.2          5.1         2.0  Iris-virginica\n",
      "111          6.4         2.7          5.3         1.9  Iris-virginica\n",
      "112          6.8         3.0          5.5         2.1  Iris-virginica\n",
      "113          5.7         2.5          5.0         2.0  Iris-virginica\n",
      "114          5.8         2.8          5.1         2.4  Iris-virginica\n",
      "115          6.4         3.2          5.3         2.3  Iris-virginica\n",
      "116          6.5         3.0          5.5         1.8  Iris-virginica\n",
      "117          7.7         3.8          6.7         2.2  Iris-virginica\n",
      "118          7.7         2.6          6.9         2.3  Iris-virginica\n",
      "119          6.0         2.2          5.0         1.5  Iris-virginica\n",
      "120          6.9         3.2          5.7         2.3  Iris-virginica\n",
      "121          5.6         2.8          4.9         2.0  Iris-virginica\n",
      "122          7.7         2.8          6.7         2.0  Iris-virginica\n",
      "123          6.3         2.7          4.9         1.8  Iris-virginica\n",
      "124          6.7         3.3          5.7         2.1  Iris-virginica\n",
      "125          7.2         3.2          6.0         1.8  Iris-virginica\n",
      "126          6.2         2.8          4.8         1.8  Iris-virginica\n",
      "127          6.1         3.0          4.9         1.8  Iris-virginica\n",
      "128          6.4         2.8          5.6         2.1  Iris-virginica\n",
      "129          7.2         3.0          5.8         1.6  Iris-virginica\n",
      "130          7.4         2.8          6.1         1.9  Iris-virginica\n",
      "131          7.9         3.8          6.4         2.0  Iris-virginica\n",
      "132          6.4         2.8          5.6         2.2  Iris-virginica\n",
      "133          6.3         2.8          5.1         1.5  Iris-virginica\n",
      "134          6.1         2.6          5.6         1.4  Iris-virginica\n",
      "135          7.7         3.0          6.1         2.3  Iris-virginica\n",
      "136          6.3         3.4          5.6         2.4  Iris-virginica\n",
      "137          6.4         3.1          5.5         1.8  Iris-virginica\n",
      "138          6.0         3.0          4.8         1.8  Iris-virginica\n",
      "139          6.9         3.1          5.4         2.1  Iris-virginica\n",
      "140          6.7         3.1          5.6         2.4  Iris-virginica\n",
      "141          6.9         3.1          5.1         2.3  Iris-virginica\n",
      "142          5.8         2.7          5.1         1.9  Iris-virginica\n",
      "143          6.8         3.2          5.9         2.3  Iris-virginica\n",
      "144          6.7         3.3          5.7         2.5  Iris-virginica\n",
      "145          6.7         3.0          5.2         2.3  Iris-virginica\n",
      "146          6.3         2.5          5.0         1.9  Iris-virginica\n",
      "147          6.5         3.0          5.2         2.0  Iris-virginica\n",
      "148          6.2         3.4          5.4         2.3  Iris-virginica\n",
      "149          5.9         3.0          5.1         1.8  Iris-virginica\n"
     ]
    }
   ],
   "source": [
    "# Problem 2: Iris Virginica with PetalLength > 1.5\n",
    "\n",
    "# Filters rows where the species is Iris-virginica and PetalLength > 1.5.\n",
    "iris_virginica = data[(data['Species'] == 'Iris-virginica') & (data['PetalLength'] > 1.5)]\n",
    "print(\"\\nProblem 2: Iris Virginica Data\")\n",
    "print(iris_virginica)"
   ]
  },
  {
   "cell_type": "code",
   "execution_count": 5,
   "id": "e8a499e7",
   "metadata": {},
   "outputs": [
    {
     "name": "stdout",
     "output_type": "stream",
     "text": [
      "\n",
      "Problem 3: Flower Feature Statistics\n",
      "                SepalLength            SepalWidth            PetalLength       \\\n",
      "                        min  max  mean        min  max  mean         min  max   \n",
      "Species                                                                         \n",
      "Iris-setosa             4.3  5.8  5.01        2.3  4.4  3.42         1.0  1.9   \n",
      "Iris-versicolor         4.9  7.0  5.94        2.0  3.4  2.77         3.0  5.1   \n",
      "Iris-virginica          4.9  7.9  6.59        2.2  3.8  2.97         4.5  6.9   \n",
      "\n",
      "                      PetalWidth             \n",
      "                 mean        min  max  mean  \n",
      "Species                                      \n",
      "Iris-setosa      1.46        0.1  0.6  0.24  \n",
      "Iris-versicolor  4.26        1.0  1.8  1.33  \n",
      "Iris-virginica   5.55        1.4  2.5  2.03  \n"
     ]
    }
   ],
   "source": [
    "# Problem 3: Minimum, Maximum, and Average Feature Values for Each Flower\n",
    "\n",
    "# Groups the data by Species and calculates min, max, and mean for each feature.\n",
    "# Rounds the results to two decimal places.\n",
    "flower_stats = data.groupby('Species').agg({\n",
    "    'SepalLength': ['min', 'max', 'mean'],\n",
    "    'SepalWidth': ['min', 'max', 'mean'],\n",
    "    'PetalLength': ['min', 'max', 'mean'],\n",
    "    'PetalWidth': ['min', 'max', 'mean']\n",
    "}).round(2)\n",
    "\n",
    "print(\"\\nProblem 3: Flower Feature Statistics\")\n",
    "print(flower_stats)"
   ]
  },
  {
   "cell_type": "code",
   "execution_count": null,
   "id": "8be8c8bf",
   "metadata": {},
   "outputs": [],
   "source": []
  }
 ],
 "metadata": {
  "kernelspec": {
   "display_name": "Python 3 (ipykernel)",
   "language": "python",
   "name": "python3"
  },
  "language_info": {
   "codemirror_mode": {
    "name": "ipython",
    "version": 3
   },
   "file_extension": ".py",
   "mimetype": "text/x-python",
   "name": "python",
   "nbconvert_exporter": "python",
   "pygments_lexer": "ipython3",
   "version": "3.9.7"
  }
 },
 "nbformat": 4,
 "nbformat_minor": 5
}
